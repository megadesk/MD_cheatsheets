{
 "cells": [
  {
   "cell_type": "code",
   "execution_count": null,
   "id": "11d46ed7-d456-452a-a2de-165cbfb92166",
   "metadata": {},
   "outputs": [],
   "source": []
  },
  {
   "cell_type": "code",
   "execution_count": null,
   "id": "b0903761-6e6d-4c2f-8387-4c20b65512f8",
   "metadata": {},
   "outputs": [],
   "source": []
  },
  {
   "cell_type": "markdown",
   "id": "4630030e-4c7f-4a44-abcd-301ea7635cac",
   "metadata": {},
   "source": [
    "## ssh tunnel into the server/cluster to set up a run up jupyter lab notebook"
   ]
  },
  {
   "cell_type": "code",
   "execution_count": null,
   "id": "b93438ff-c7e9-49ad-9066-91eb92066734",
   "metadata": {},
   "outputs": [],
   "source": [
    "# this binds a local port to a remote port on a server\n",
    "ssh -L localhost:XXXXX:localhost:XXXXX <remote server address>\n",
    "\n",
    "# start a jupyter lab notebook on the same port used to tunnel\n",
    "jupyter lab --port=XXXXX"
   ]
  },
  {
   "cell_type": "code",
   "execution_count": null,
   "id": "370fa1f9-a6e4-41d0-853c-ab700b890e94",
   "metadata": {},
   "outputs": [],
   "source": []
  },
  {
   "cell_type": "markdown",
   "id": "89927906-4e33-4955-b989-7d515438e918",
   "metadata": {},
   "source": [
    "## Tmux set up"
   ]
  },
  {
   "cell_type": "markdown",
   "id": "67dc2c5a-f406-4ada-826e-142526639b58",
   "metadata": {},
   "source": [
    "### primary tmux seasion set up "
   ]
  },
  {
   "cell_type": "code",
   "execution_count": null,
   "id": "d4de9bf7-e793-4596-bf63-c1fc3c059ae1",
   "metadata": {},
   "outputs": [],
   "source": [
    "## kill any old tmux-servers and start over\n",
    "tmux kill-server\n",
    "\n",
    "## start new tmux sesion and server\n",
    "tmux new\n",
    "\n",
    "# split screen horizontally this makes top and bottom pane\n",
    "ctrl-b \"\n",
    "\n",
    "# this moves the active cursor to the newly created bottom pane\n",
    "ctrl-b <down arrow>\n",
    "\n",
    "# split screen vertically. This split the bottom pane into a right and left\n",
    "ctrl-b \"\n",
    "\n",
    "# this moves the active cursor to the top pane\n",
    "ctrl-b <up arrow>\n",
    "\n",
    "#start htop in top pane\n",
    "htop\n",
    "\n",
    "# this moves the active cursor to one of the bottom panes\n",
    "ctrl-b <down arrow>\n",
    "# this moves the active cursor to the left bottom pane\n",
    "ctrl-b <left arrow>\n",
    "# this starts the jupter notebook connect to the tunneling port used to intially shh into the server\n",
    "jupyter lab --port=XXXXX\n",
    "\n",
    "# this moves the active cursor to the right bottom pane\n",
    "ctrl-b <right arrow>\n",
    "cd projects\n",
    "\n",
    "\n"
   ]
  },
  {
   "cell_type": "markdown",
   "id": "bf957416-531a-4265-b689-9883e0d5a193",
   "metadata": {},
   "source": [
    "### other useful tmux commmands"
   ]
  },
  {
   "cell_type": "code",
   "execution_count": null,
   "id": "60f7c07a-0b27-4bf1-a872-7a5100408b82",
   "metadata": {},
   "outputs": [],
   "source": [
    "# enter copy mode to scoll up through panes line history\n",
    "ctrl-b [\n",
    "# to exit scroll mode\n",
    "q\n",
    "    \n",
    "    \n",
    "# to create a new window/screen within a tmux seasion\n",
    "ctrl-b c\n",
    "    \n",
    "# to move to the previous window/screen within a tmux seasion\n",
    "ctrl-b p\n",
    "    \n",
    "# to move to a window/screen by number id (listed on bottom) \n",
    "ctrl-b <number>"
   ]
  },
  {
   "cell_type": "code",
   "execution_count": null,
   "id": "df46ac75-d47d-42a4-b67b-efea80741ebf",
   "metadata": {},
   "outputs": [],
   "source": []
  },
  {
   "cell_type": "markdown",
   "id": "a8e46317-6aba-4113-930b-f283da8c3253",
   "metadata": {},
   "source": [
    "## git hub resposityory set up "
   ]
  },
  {
   "cell_type": "markdown",
   "id": "88d57b62-5edc-4052-bb91-2eb103feb3e9",
   "metadata": {},
   "source": [
    "### initial set up "
   ]
  },
  {
   "cell_type": "markdown",
   "id": "20f48b3f-dc3a-469a-a1c7-ed63b1f5b096",
   "metadata": {},
   "source": [
    "log onto github web site and create a new resposity there \n",
    "\n",
    "find the https address of the new repository \n",
    "clicking the green \"code\" button in the top right of the respository main page\n",
    "for this repository it looks like this.\n",
    "https://github.com/megadesk/MD_cheatsheets.git\n",
    "\n",
    "next on your local machine or server ssh session clone the remote repository to a a local destination"
   ]
  },
  {
   "cell_type": "code",
   "execution_count": null,
   "id": "049909dc-600a-4bf0-952d-57daad693372",
   "metadata": {},
   "outputs": [],
   "source": [
    "# change directory to the location you want the remote repository clone to\n",
    "cd projects\n",
    "# clone the remote repository to your local machine \n",
    "git clone https://github.com/megadesk/MD_cheatsheets.git\n"
   ]
  },
  {
   "cell_type": "markdown",
   "id": "be900ed2-9ecc-441b-a3ce-903aeb06137f",
   "metadata": {},
   "source": [
    "### commit and push "
   ]
  },
  {
   "cell_type": "code",
   "execution_count": null,
   "id": "a0ecc933-d0b1-4ac0-b7e8-f3a32749cb8a",
   "metadata": {},
   "outputs": [],
   "source": [
    "# add all your recent changes to the staged changes\n",
    "git add *\n",
    "\n",
    "# view all staged and unstaged changes \n",
    "git status\n",
    "\n",
    "# commit staged changes to the version history\n",
    "git commmit -m\"short description of changes\"\n",
    "\n",
    "# push the local commit to remote \"origin\" repo\n",
    "git push origin "
   ]
  },
  {
   "cell_type": "code",
   "execution_count": null,
   "id": "6cee1863-dcc3-44e1-a4d8-09a5a3d3fb48",
   "metadata": {},
   "outputs": [],
   "source": []
  },
  {
   "cell_type": "code",
   "execution_count": null,
   "id": "cd9478f2-5184-446b-bb82-6d12cba302ab",
   "metadata": {},
   "outputs": [],
   "source": []
  },
  {
   "cell_type": "code",
   "execution_count": null,
   "id": "97451f53-9380-4b13-8d9d-db167ce58088",
   "metadata": {},
   "outputs": [],
   "source": []
  },
  {
   "cell_type": "code",
   "execution_count": null,
   "id": "c3c1dc62-f2e2-424c-87e0-e8bc7431b4f9",
   "metadata": {},
   "outputs": [],
   "source": []
  },
  {
   "cell_type": "markdown",
   "id": "b3d4b1df-5dba-4109-98d9-0a177aa96892",
   "metadata": {},
   "source": [
    "## end"
   ]
  },
  {
   "cell_type": "code",
   "execution_count": null,
   "id": "3c08a2c6-85ae-472e-8dab-90bedfa5652d",
   "metadata": {},
   "outputs": [],
   "source": []
  }
 ],
 "metadata": {
  "kernelspec": {
   "display_name": "Python 3 (ipykernel)",
   "language": "python",
   "name": "python3"
  },
  "language_info": {
   "codemirror_mode": {
    "name": "ipython",
    "version": 3
   },
   "file_extension": ".py",
   "mimetype": "text/x-python",
   "name": "python",
   "nbconvert_exporter": "python",
   "pygments_lexer": "ipython3",
   "version": "3.9.13"
  }
 },
 "nbformat": 4,
 "nbformat_minor": 5
}
